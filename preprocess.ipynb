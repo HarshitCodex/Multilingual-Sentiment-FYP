{
 "cells": [
  {
   "cell_type": "code",
   "execution_count": 9,
   "metadata": {},
   "outputs": [],
   "source": [
    "# generate csv from data \n",
    "\n",
    "import csv\n",
    "\n",
    "header = ['phrase_id', 'phrase', 'sentiment_score', 'implication']\n",
    "\n",
    "f_dict = open('./data/english/dictionary.txt', 'r')\n",
    "f_sent = open('./data/english/sentiment_labels.txt', 'r')\n",
    "\n",
    "f = open('./data/english/sentiment_data.csv', 'w')\n",
    "writer = csv.writer(f)\n",
    "writer.writerow(header)\n",
    "\n",
    "lines_dict = f_dict.readlines()\n",
    "lines_sent = f_sent.readlines()\n",
    "\n",
    "for line in lines_dict:\n",
    "\n",
    "    data = []\n",
    "    line_dict_list = line.strip().split('|')\n",
    "    sentiment_val = lines_sent[int(line_dict_list[1])+1].split('|')[1]\n",
    "    sentiment_val = float(sentiment_val)\n",
    "    implication = \"\"\n",
    "\n",
    "    if sentiment_val<=0.2:\n",
    "        implication = \"very_negative\"\n",
    "    elif sentiment_val<=0.4:\n",
    "        implication = \"negative\"\n",
    "    elif sentiment_val<=0.6:\n",
    "        implication = \"neutral\"\n",
    "    elif sentiment_val<=0.8:\n",
    "        implication = \"positive\"\n",
    "    else:\n",
    "        implication = \"very_positive\"\n",
    "\n",
    "    data.append(line_dict_list[1])\n",
    "    data.append(line_dict_list[0])\n",
    "    data.append(sentiment_val)\n",
    "    data.append(implication)\n",
    "\n",
    "    writer.writerow(data)\n",
    "\n",
    "f_dict.close()\n",
    "f_sent.close()\n",
    "f.close()\n"
   ]
  },
  {
   "cell_type": "code",
   "execution_count": 13,
   "metadata": {},
   "outputs": [],
   "source": [
    "# remove urls\n",
    "import pandas as pd  \n",
    "\n",
    "df = pd.read_csv('./data/english/sentiment_data.csv')    \n",
    "\n",
    "df['phrase'] = df['phrase'].replace(r'http\\S+', '', regex=True).replace(r'www\\S+', '', regex=True)\n",
    "\n",
    "df.to_csv('./data/english/sentiment_data_url_removed.csv')\n"
   ]
  },
  {
   "cell_type": "code",
   "execution_count": 7,
   "metadata": {},
   "outputs": [],
   "source": [
    "# remove stop words\n",
    "# https://stackabuse.com/python-for-nlp-working-with-the-gensim-library-part-1/\n",
    "\n",
    "from gensim.parsing.preprocessing import remove_stopwords\n",
    "import pandas as pd  \n",
    "\n",
    "df = pd.read_csv('./data/english/sentiment_data_url_removed.csv')\n",
    "\n",
    "for index, phrase in df['phrase'].iteritems():\n",
    "    df['phrase'][index] = remove_stopwords(phrase)\n",
    "\n",
    "df.to_csv('./data/english/sentiment_data_url_stopwords_removed.csv')\n",
    "\n"
   ]
  },
  {
   "cell_type": "code",
   "execution_count": 8,
   "metadata": {},
   "outputs": [],
   "source": [
    "# lowercase all words\n",
    "import pandas as pd  \n",
    "\n",
    "df = pd.read_csv('./data/english/sentiment_data_url_removed.csv')\n",
    "\n",
    "df['phrase'] = [each_string.lower() for each_string in df['phrase']]\n",
    "\n",
    "df.to_csv('./data/english/sentiment_data_url_stopwords_removed_lower.csv')\n"
   ]
  },
  {
   "cell_type": "code",
   "execution_count": null,
   "metadata": {},
   "outputs": [],
   "source": []
  }
 ],
 "metadata": {
  "kernelspec": {
   "display_name": "Python 3.8.10 64-bit",
   "name": "python3810jvsc74a57bd031f2aee4e71d21fbe5cf8b01ff0e069b9275f58929596ceb00d14d90e3e16cd6"
  },
  "language_info": {
   "codemirror_mode": {
    "name": "ipython",
    "version": 3
   },
   "file_extension": ".py",
   "mimetype": "text/x-python",
   "name": "python",
   "nbconvert_exporter": "python",
   "pygments_lexer": "ipython3",
   "version": "3.8.10"
  },
  "metadata": {
   "interpreter": {
    "hash": "31f2aee4e71d21fbe5cf8b01ff0e069b9275f58929596ceb00d14d90e3e16cd6"
   }
  },
  "orig_nbformat": 2
 },
 "nbformat": 4,
 "nbformat_minor": 2
}